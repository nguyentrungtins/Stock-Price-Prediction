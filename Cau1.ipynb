{
 "cells": [
  {
   "attachments": {},
   "cell_type": "markdown",
   "metadata": {},
   "source": [
    "# FINAL DATA MINING "
   ]
  },
  {
   "attachments": {},
   "cell_type": "markdown",
   "metadata": {},
   "source": [
    "## Khai báo"
   ]
  },
  {
   "attachments": {},
   "cell_type": "markdown",
   "metadata": {},
   "source": [
    "### Import các packages cần thiết "
   ]
  },
  {
   "cell_type": "code",
   "execution_count": 35,
   "metadata": {
    "tags": []
   },
   "outputs": [],
   "source": [
    "import urllib.request\n",
    "from bs4 import BeautifulSoup\n",
    "from selenium import webdriver\n",
    "from selenium.webdriver.edge.service import Service\n",
    "from selenium.webdriver.common.by import By\n",
    "from tslearn.preprocessing import TimeSeriesScalerMeanVariance\n",
    "import pandas as pd\n",
    "import matplotlib\n",
    "import matplotlib.pyplot as plt\n",
    "import matplotlib.lines as mlines\n",
    "import matplotlib.patches as mpatches\n",
    "import numpy\n",
    "import seaborn as sns\n",
    "import time\n",
    "import copy\n",
    "from tqdm import tqdm\n",
    "from time import sleep\n",
    "from selenium.common.exceptions import NoSuchElementException\n",
    "\n"
   ]
  },
  {
   "attachments": {},
   "cell_type": "markdown",
   "metadata": {},
   "source": [
    "### Định nghĩa hàm Crawler"
   ]
  },
  {
   "cell_type": "code",
   "execution_count": 36,
   "metadata": {},
   "outputs": [],
   "source": [
    "class Crawler:\n",
    "    def __init__(self, url):\n",
    "        # Declare browser\n",
    "        self.driver = webdriver.Chrome(r'./chromedriver')\n",
    "        self.driver.maximize_window()\n",
    "        #self.driver = webdriver.Edge('./msedgedriver.exe')\n",
    "        #self.driver = webdriver.Chrome()\n",
    "        #self.driver = webdriver.Firefox()\n",
    "        #self.driver = webdriver.Safari()\n",
    "        self.url = url\n",
    "        \n",
    "    def startCrawling(self):\n",
    "        self.driver.get(self.url)\n",
    "\n",
    "    def clickBtn(self, xpath):\n",
    "        btn = self.driver.find_element(by=By.XPATH, value=xpath)\n",
    "        self.driver.execute_script(\"arguments[0].click();\", btn)\n",
    "        \n",
    "    def enterInputDate(self, xpath, message):\n",
    "        inputTag = self.driver.find_element(by=By.XPATH, value=xpath)\n",
    "        \n",
    "        inputTag.clear()\n",
    "        inputTag.send_keys(message)\n",
    "\n",
    "    def extractSymbol(self, num):\n",
    "        self.soup = BeautifulSoup(self.driver.page_source, 'html.parser')\n",
    "        webContent = self.soup.find(\"table\", {\"id\": \"tblScroll1\"}).find_all(\"td\", {\"class\" : \"StockSymbolEven\"})\n",
    "\n",
    "        data = []        \n",
    "        for i in webContent:\n",
    "            data.append(i.text)\n",
    "\n",
    "        data = numpy.random.choice(data, num, replace = False)\n",
    "        return data\n",
    "    \n",
    "    def extractData(self):\n",
    "        self.soup = BeautifulSoup(self.driver.page_source, 'html.parser')\n",
    "        \n",
    "        webContent = self.soup.find(\"table\", {\"id\": \"GirdTable2\"}).find_all(\"tr\")\n",
    "        priceClosingData = []\n",
    "        for i in webContent:\n",
    "            priceClosingColumn = str(i.find_all(\"td\")[2].text).replace(u'\\xa0', u'')\n",
    "            dateColumn = i.find(\"td\", {\"class\": \"Item_DateItem\"})\n",
    "                        \n",
    "            if priceClosingColumn != \"KL\" and dateColumn != None:\n",
    "                priceClosingData.append((dateColumn.text, priceClosingColumn))\n",
    "            \n",
    "        return priceClosingData\n",
    "    "
   ]
  },
  {
   "attachments": {},
   "cell_type": "markdown",
   "metadata": {},
   "source": [
    "### Khai báo hàm xử  lý File CSV"
   ]
  },
  {
   "cell_type": "code",
   "execution_count": 37,
   "metadata": {},
   "outputs": [],
   "source": [
    "class CSVHandler:\n",
    "    def __init__(self):\n",
    "        self.df = {}\n",
    "        \n",
    "    def createDataFrame(self, stockSymbolData):\n",
    "        keys = list(stockSymbolData.keys())\n",
    "        data = {}\n",
    "        \n",
    "        #Lấy cột ngày\n",
    "        date = [i[0] for i in stockSymbolData[keys[0]]]\n",
    "        date.reverse()\n",
    "        \n",
    "        data['Date'] = date #cột Date\n",
    "        \n",
    "        #Lấy các cột mã chứng khoán và giá đóng cửa\n",
    "        for stockSymbol in keys:\n",
    "            stockClosingPrice = [float(i[1]) for i in stockSymbolData[stockSymbol]]\n",
    "            stockClosingPrice.reverse()\n",
    "            \n",
    "            data[stockSymbol] = stockClosingPrice ## Cột StockSymbol\n",
    "        \n",
    "        self.df = pd.DataFrame(data)\n",
    "        \n",
    "    def exportCSV(self, fileName):\n",
    "        self.df.to_csv(fileName, index = False, header=True)\n",
    "        \n",
    "    def readCSVToDataFrame(self, fileName):\n",
    "        dataFrame = pd.read_csv(fileName)\n",
    "        return dataFrame"
   ]
  },
  {
   "attachments": {},
   "cell_type": "markdown",
   "metadata": {},
   "source": [
    "### Khai báo các hàm xử lý data sau khi cào dữ liệu"
   ]
  },
  {
   "cell_type": "code",
   "execution_count": 38,
   "metadata": {},
   "outputs": [],
   "source": [
    "#Một số hàm nhỏ dành cho tiền xử lí dữ liệu trước khi sử dụng nó\n",
    "\n",
    "## Hàm xử lí dữ liệu của mã có ngày bị trùng\n",
    "def handleDuplicateData(stockSymbolData):\n",
    "    for i in stockSymbolData:\n",
    "        tempList = []\n",
    "        [tempList.append(j) for j in stockSymbolData[i] if j not in tempList]       \n",
    "        stockSymbolData[i] = tempList\n",
    "    \n",
    "    return stockSymbolData\n",
    "\n",
    "## Hàm chỉ lấy những ngày mà 100 mã đều có giá đóng cửa\n",
    "def handleMissingDate(stockSymbolData):\n",
    "    dateList = []\n",
    "    for i in stockSymbolData:\n",
    "        for j in stockSymbolData[i]:\n",
    "            if j[0] not in dateList:\n",
    "                dateList.append(j[0])\n",
    "    \n",
    "    removeDateList = []\n",
    "    for i in dateList:\n",
    "        for j in stockSymbolData:\n",
    "            if i not in [k[0] for k in stockSymbolData[j]] and i not in removeDateList:\n",
    "                removeDateList.append(i)    \n",
    "    \n",
    "    for i in stockSymbolData:\n",
    "        count = 0\n",
    "        tempList = []\n",
    "        for j in stockSymbolData[i]:\n",
    "            if j[0] not in removeDateList:\n",
    "                tempList.append(j)\n",
    "        if(len(tempList) > 0):\n",
    "            stockSymbolData[i] = tempList\n",
    "\n",
    "    return stockSymbolData"
   ]
  },
  {
   "attachments": {},
   "cell_type": "markdown",
   "metadata": {},
   "source": [
    "## Thực thi"
   ]
  },
  {
   "attachments": {},
   "cell_type": "markdown",
   "metadata": {},
   "source": [
    "### Lấy Stock Symbol"
   ]
  },
  {
   "cell_type": "code",
   "execution_count": 39,
   "metadata": {},
   "outputs": [
    {
     "name": "stderr",
     "output_type": "stream",
     "text": [
      "/tmp/ipykernel_102845/2992471288.py:4: DeprecationWarning: executable_path has been deprecated, please pass in a Service object\n",
      "  self.driver = webdriver.Chrome(r'./chromedriver')\n"
     ]
    }
   ],
   "source": [
    "bot = Crawler('https://quotes.vcbs.com.vn/a/exchange.html?symbol=HSX')\n",
    "bot.startCrawling()\n",
    "\n",
    "#Lấy 200 mã\n",
    "time.sleep(3)\n",
    "stock_symbol = bot.extractSymbol(200)"
   ]
  },
  {
   "attachments": {},
   "cell_type": "markdown",
   "metadata": {},
   "source": [
    "<b>Chú thích:</b> <br>\n",
    "Vì có nhưng mã chứng khoán sẽ có khả năng không có (biến mất hoặc bằng một lý do nào đó) trong một khoảng thời gian nhất định. Vì vậy để đảm bảo được có thể cào được 100 mã còn nguyên vẹn(Có cả 2020, 2021, quý 1 2022), ta nên lấy dư để trừ hao.\n"
   ]
  },
  {
   "attachments": {},
   "cell_type": "markdown",
   "metadata": {},
   "source": [
    "#### Sample"
   ]
  },
  {
   "cell_type": "code",
   "execution_count": 40,
   "metadata": {},
   "outputs": [],
   "source": [
    "# stock_symbol_lst = ['CLL', 'HPX', 'HVN', 'SBT', 'CTS', 'VCI', 'HAR', 'TCT', 'PGI', 'DMC', 'MIG', 'PVD', 'DHA', 'VPH', 'VOS', 'SHI', 'VNM', 'AST', 'SFI', 'FDC', 'IDI', 'VCF', 'SC5', 'LGC', 'KDH', 'CCL', 'DBT', 'BFC', 'PDR', 'CTF', 'OPC', 'DGC', 'AGM', 'LAF', 'ROS', 'PAC', 'MCG', 'TMT', 'VJC', 'PC1', 'TMP', 'CRE', 'TVS', 'ACB', 'TGG', 'SMB', 'BRC', 'CEE', 'TNT', 'SGR', 'NHH', 'ITA', 'HRC', 'GTA', 'QCG', 'HOT', 'DTL', 'DIG', 'PIT', 'TDM', 'SII', 'SPM', 'PHC', 'VGC', 'HDG', 'FMC', 'TTE', 'TV2', 'DCL', 'SRF', 'EIB', 'VSH', 'LCG', 'KSB', 'GDT', 'HAX', 'IBC', 'NKG', 'VRE', 'HAG', 'GMC', 'SJF', 'SKG', 'ITD', 'NT2', 'DBC', 'KBC', 'D2D', 'KOS', 'POW', 'TLG', 'VDS', 'HID', 'HCD', 'PMG', 'GEX', 'HMC', 'SFC', 'DSN', 'TPC']\n",
    "# stock_symbol = numpy.array( stock_symbol_lst)\n",
    "# print(stock_symbol)\n",
    "# print(len(stock_symbol))"
   ]
  },
  {
   "attachments": {},
   "cell_type": "markdown",
   "metadata": {},
   "source": [
    "#### In Stock Symbol đã lấy được"
   ]
  },
  {
   "cell_type": "code",
   "execution_count": 41,
   "metadata": {},
   "outputs": [
    {
     "name": "stdout",
     "output_type": "stream",
     "text": [
      "['NHA' 'TCD' 'GMC' 'BCE' 'THI' 'DGC' 'CIG' 'SRF' 'VJC' 'D2D' 'HTN' 'FDC'\n",
      " 'BSI' 'KBC' 'DRH' 'OCB' 'QBS' 'SSC' 'ABS' 'TDM' 'MSN' 'DAH' 'TYA' 'NVL'\n",
      " 'VPH' 'NHT' 'CCI' 'SAB' 'BMC' 'SZC' 'SII' 'ASP' 'PMG' 'SVI' 'GDT' 'CKG'\n",
      " 'NT2' 'SVC' 'IBC' 'HDB' 'HMC' 'CMX' 'GAB' 'DCL' 'TIX' 'HHS' 'ANV' 'LCG'\n",
      " 'YBM' 'POW' 'DVP' 'DBT' 'VGC' 'NO1' 'COM' 'TCO' 'FMC' 'TLG' 'SMB' 'VHM'\n",
      " 'VCA' 'CDC' 'VRE' 'AGG' 'ILB' 'TCT' 'TDW' 'TVS' 'SFC' 'BMP' 'SHA' 'TTA'\n",
      " 'FRT' 'HOT' 'TMP' 'SGR' 'CTI' 'TNH' 'EVF' 'VIC' 'TPC' 'PNJ' 'PGC' 'GMH'\n",
      " 'ACG' 'HDG' 'PVD' 'APG' 'HU1' 'KHP' 'TCL' 'DHG' 'HAG' 'PAC' 'DQC' 'MCP'\n",
      " 'DXS' 'HTI' 'TV2' 'PLP' 'KDH' 'BWE' 'TNT' 'VNG' 'NLG' 'ACB' 'SAV' 'HPX'\n",
      " 'CTF' 'DHA' 'BCM' 'VPD' 'TDG' 'HCD' 'SCR' 'DMC' 'AAA' 'FIT' 'HSL' 'SC5'\n",
      " 'STG' 'AAT' 'VSH' 'HAX' 'CLL' 'LGL' 'CSV' 'VIP' 'KSB' 'VCI' 'EIB' 'BHN'\n",
      " 'LAF' 'DPM' 'PGI' 'LPB' 'VDS' 'TMT' 'VNM' 'MBB' 'EMC' 'RAL' 'VND' 'ASG'\n",
      " 'SKG' 'PDR' 'PTC' 'BID' 'SPM' 'TTE' 'GTA' 'PSH' 'ADG' 'MSB' 'DTL' 'AGR'\n",
      " 'ITA' 'REE' 'NAF' 'TGG' 'FCM' 'TRC' 'HAR' 'UIC' 'HUB' 'IDI' 'SJF' 'SFI'\n",
      " 'SBT' 'BAF' 'MHC' 'LEC' 'PC1' 'DBC' 'DIG' 'ST8' 'VCF' 'NBB' 'DSN' 'SHI'\n",
      " 'PHC' 'GEX' 'C47' 'OPC' 'HID' 'PIT' 'CTS' 'TBC' 'HAI' 'HRC' 'KOS' 'LIX'\n",
      " 'CRE' 'HVN' 'VPS' 'TNA' 'VOS' 'BTT' 'ITD' 'VTB']\n"
     ]
    }
   ],
   "source": [
    "print(stock_symbol)"
   ]
  },
  {
   "attachments": {},
   "cell_type": "markdown",
   "metadata": {},
   "source": [
    "### Thực thi cào dữ liệu"
   ]
  },
  {
   "cell_type": "code",
   "execution_count": 42,
   "metadata": {},
   "outputs": [
    {
     "name": "stderr",
     "output_type": "stream",
     "text": [
      "/tmp/ipykernel_102845/2992471288.py:4: DeprecationWarning: executable_path has been deprecated, please pass in a Service object\n",
      "  self.driver = webdriver.Chrome(r'./chromedriver')\n"
     ]
    }
   ],
   "source": [
    "bot = Crawler(\"https://s.cafef.vn\")\n"
   ]
  },
  {
   "cell_type": "code",
   "execution_count": 43,
   "metadata": {},
   "outputs": [
    {
     "name": "stderr",
     "output_type": "stream",
     "text": [
      "Phần trăm hoàn tất:  11%|████▍                                   | 22/200 [27:35<3:33:00, 71.80s/it]"
     ]
    }
   ],
   "source": [
    "data = {}\n",
    "configs = [['1/1/2020', '31/12/2020', 13], ['1/1/2021', '31/12/2021', 13],['1/1/2022', '30/4/2022',4]]\n",
    "\n",
    "for i in tqdm(stock_symbol, ncols = 100, desc =\"Phần trăm hoàn tất\"):\n",
    "    try:\n",
    "        i = i.replace('*', '')\n",
    "        newUrl = \"https://s.cafef.vn/Lich-su-giao-dich-\" + i + \"-1.chn\"\n",
    "        bot.url = newUrl\n",
    "        bot.startCrawling()\n",
    "        dateAndClosingPrice = []\n",
    "        for y in configs: \n",
    "            dateStart = y[0]\n",
    "            dateEnd = y[1]\n",
    "            ## 2020\n",
    "            bot.enterInputDate('//*[@id=\"ContentPlaceHolder1_ctl03_dpkTradeDate1_txtDatePicker\"]', dateStart)\n",
    "            bot.enterInputDate('//*[@id=\"ContentPlaceHolder1_ctl03_dpkTradeDate2_txtDatePicker\"]', dateEnd)\n",
    "\n",
    "            bot.clickBtn('//*[@id=\"ContentPlaceHolder1_ctl03_btSearch\"]')\n",
    "\n",
    "            time.sleep(2)\n",
    "            \n",
    "            \n",
    "            #13 trang dữ liệu cần crawl\n",
    "            numberOfPage = y[2]\n",
    "            for j in range(0, numberOfPage):\n",
    "                time.sleep(2)\n",
    "                dateAndClosingPrice += bot.extractData()\n",
    "\n",
    "                if(j == numberOfPage - 1):\n",
    "                    time.sleep(1)\n",
    "                    continue\n",
    "\n",
    "                if(j == 0):\n",
    "                    bot.clickBtn('//*[@id=\"ContentPlaceHolder1_ctl03_divHO\"]/div/div/table/tbody/tr/td[' + str(numberOfPage + 1) + ']/a')\n",
    "                else:\n",
    "                    bot.clickBtn('//*[@id=\"ContentPlaceHolder1_ctl03_divHO\"]/div/div/table/tbody/tr/td[' + str(numberOfPage + 2) + ']/a')\n",
    "                \n",
    "            \n",
    "        data[i] = dateAndClosingPrice\n",
    "        if(len(data) == 100):\n",
    "            break\n",
    "        \n",
    "    except NoSuchElementException:\n",
    "        continue\n",
    "#print(data)"
   ]
  },
  {
   "attachments": {},
   "cell_type": "markdown",
   "metadata": {},
   "source": [
    "### In số lượng Stock đã cào được "
   ]
  },
  {
   "cell_type": "code",
   "execution_count": null,
   "metadata": {},
   "outputs": [
    {
     "name": "stdout",
     "output_type": "stream",
     "text": [
      "Number of stock: 97\n",
      "dict_keys(['CLL', 'HPX', 'HVN', 'SBT', 'CTS', 'VCI', 'HAR', 'TCT', 'PGI', 'DMC', 'MIG', 'PVD', 'DHA', 'VPH', 'VOS', 'SHI', 'VNM', 'AST', 'IDI', 'VCF', 'LGC', 'KDH', 'CCL', 'DBT', 'BFC', 'PDR', 'CTF', 'OPC', 'DGC', 'AGM', 'LAF', 'ROS', 'PAC', 'MCG', 'TMT', 'VJC', 'PC1', 'TMP', 'CRE', 'TVS', 'ACB', 'TGG', 'SMB', 'BRC', 'CEE', 'TNT', 'SGR', 'NHH', 'ITA', 'HRC', 'GTA', 'QCG', 'HOT', 'DTL', 'DIG', 'PIT', 'TDM', 'SII', 'SPM', 'PHC', 'VGC', 'HDG', 'FMC', 'TTE', 'TV2', 'DCL', 'SRF', 'EIB', 'VSH', 'LCG', 'KSB', 'GDT', 'HAX', 'IBC', 'NKG', 'VRE', 'HAG', 'GMC', 'SJF', 'SKG', 'ITD', 'NT2', 'DBC', 'KBC', 'D2D', 'KOS', 'POW', 'TLG', 'VDS', 'HID', 'HCD', 'PMG', 'GEX', 'HMC', 'SFC', 'DSN', 'TPC'])\n"
     ]
    }
   ],
   "source": [
    "#print(data['THI'])\n",
    "print('Number of stock:', len(data))\n",
    "print(data.keys())"
   ]
  },
  {
   "attachments": {},
   "cell_type": "markdown",
   "metadata": {},
   "source": [
    "## Xử lý dữ liệu và xuất file CSV"
   ]
  },
  {
   "attachments": {},
   "cell_type": "markdown",
   "metadata": {},
   "source": [
    "### Xử lý dữ liệu"
   ]
  },
  {
   "cell_type": "code",
   "execution_count": null,
   "metadata": {},
   "outputs": [
    {
     "name": "stdout",
     "output_type": "stream",
     "text": [
      "97\n"
     ]
    }
   ],
   "source": [
    "print(len(data))"
   ]
  },
  {
   "cell_type": "code",
   "execution_count": null,
   "metadata": {},
   "outputs": [],
   "source": [
    "dataCopy = copy.deepcopy(data)\n",
    "dataCopy = handleDuplicateData(dataCopy)\n",
    "stockSymbolData = handleMissingDate(dataCopy)"
   ]
  },
  {
   "attachments": {},
   "cell_type": "markdown",
   "metadata": {},
   "source": [
    "### Xuất file CSV"
   ]
  },
  {
   "cell_type": "code",
   "execution_count": null,
   "metadata": {},
   "outputs": [],
   "source": [
    "\n",
    "\n",
    "handleCSV = CSVHandler()\n",
    "handleCSV.createDataFrame(stockSymbolData)\n",
    "handleCSV.exportCSV(\"ClosingPrice.csv\")"
   ]
  },
  {
   "cell_type": "code",
   "execution_count": null,
   "metadata": {},
   "outputs": [],
   "source": []
  }
 ],
 "metadata": {
  "kernelspec": {
   "display_name": "Python 3",
   "language": "python",
   "name": "python3"
  },
  "language_info": {
   "codemirror_mode": {
    "name": "ipython",
    "version": 3
   },
   "file_extension": ".py",
   "mimetype": "text/x-python",
   "name": "python",
   "nbconvert_exporter": "python",
   "pygments_lexer": "ipython3",
   "version": "3.9.7 (tags/v3.9.7:1016ef3, Aug 30 2021, 20:19:38) [MSC v.1929 64 bit (AMD64)]"
  },
  "orig_nbformat": 4,
  "vscode": {
   "interpreter": {
    "hash": "1d5c1156327dacead463cc502c55ebae8ce9c8c01979cf154173ff808e75bf55"
   }
  }
 },
 "nbformat": 4,
 "nbformat_minor": 2
}
